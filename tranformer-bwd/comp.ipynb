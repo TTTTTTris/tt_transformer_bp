{
 "cells": [
  {
   "cell_type": "code",
   "execution_count": 1,
   "id": "6dceaff1",
   "metadata": {},
   "outputs": [
    {
     "name": "stdout",
     "output_type": "stream",
     "text": [
      "(4800,) (4800,) (4800,) (4800,)\n",
      "TT-core 0 in Q max elemental err: 0.02%\n",
      "TT-core 1 in Q max elemental err: 0.02%\n",
      "TT-core 2 in Q max elemental err: 0.01%\n",
      "TT-core 3 in Q max elemental err: 0.01%\n",
      "TT-core 4 in Q max elemental err: 0.00%\n",
      "TT-core 5 in Q max elemental err: 0.01%\n",
      "TT-core 0 in K max elemental err: 0.01%\n",
      "TT-core 1 in K max elemental err: 0.01%\n",
      "TT-core 2 in K max elemental err: 0.03%\n",
      "TT-core 3 in K max elemental err: 0.04%\n",
      "TT-core 4 in K max elemental err: 0.01%\n",
      "TT-core 5 in K max elemental err: 0.01%\n",
      "TT-core 0 in V max elemental err: 0.01%\n",
      "TT-core 1 in V max elemental err: 0.01%\n",
      "TT-core 2 in V max elemental err: 0.03%\n",
      "TT-core 3 in V max elemental err: 0.02%\n",
      "TT-core 4 in V max elemental err: 0.01%\n",
      "TT-core 5 in V max elemental err: 0.00%\n",
      "TT-core 0 in O max elemental err: 0.01%\n",
      "TT-core 1 in O max elemental err: 0.01%\n",
      "TT-core 2 in O max elemental err: 0.00%\n",
      "TT-core 3 in O max elemental err: 0.01%\n",
      "TT-core 4 in O max elemental err: 0.01%\n",
      "TT-core 5 in O max elemental err: 0.02%\n"
     ]
    }
   ],
   "source": [
    "import numpy as np\n",
    "file1 = 'grad_cores_q.txt'\n",
    "file2 = 'grad_cores_k.txt'\n",
    "file3 = 'grad_cores_v.txt'\n",
    "file4 = 'grad_cores_fc.txt'\n",
    "grad1 = np.loadtxt(file1)\n",
    "grad2 = np.loadtxt(file2)\n",
    "grad3 = np.loadtxt(file3)\n",
    "grad4 = np.loadtxt(file4)\n",
    "print(grad1.shape, grad2.shape,grad3.shape,grad4.shape)\n",
    "\n",
    "grad = {}\n",
    "grad1_ = {}\n",
    "grad2_ = {}\n",
    "grad3_ = {}\n",
    "grad4_ = {}\n",
    "WD= 10*8*10\n",
    "for k in range(24):\n",
    "    file = \"grad_cores_attn/grad_attn\" + str(k) + \".txt\";\n",
    "    grad[k] = np.loadtxt(file)\n",
    "    grad[k] = grad[k].flatten()\n",
    "    # print(grad[k].shape)\n",
    "    grad[k] = np.pad(grad[k].flatten(), (0, WD - len(grad[k].flatten())), 'constant')\n",
    "\n",
    "for i in range(6):\n",
    "    grad1_[i] = grad1[i*WD:(i+1)*WD]\n",
    "    grad2_[i] = grad2[i*WD:(i+1)*WD]\n",
    "    grad3_[i] = grad3[i*WD:(i+1)*WD]\n",
    "    grad4_[i] = grad4[i*WD:(i+1)*WD]\n",
    "\n",
    "for i in range(6):\n",
    "    index1 = np.argmax(np.abs(grad1_[i]-grad[i]))\n",
    "    # print(index1, grad1_[i][index1], grad[i][index1])\n",
    "    print('TT-core {:d}'.format(i), 'in Q max elemental err: {:.2%}'.format(np.abs((grad1_[i][index1]-grad[i][index1])/grad[i][index1])))\n",
    "for i in range(6):\n",
    "    index2 = np.argmax(np.abs(grad2_[i]-grad[i+6]))\n",
    "    # print(index2, grad2_[i][index2], grad[i+6][index2])\n",
    "    print('TT-core {:d}'.format(i), 'in K max elemental err: {:.2%}'.format(np.abs((grad2_[i][index2]-grad[i+6][index2])/grad[i+6][index2])))\n",
    "for i in range(6):\n",
    "    index3 = np.argmax(np.abs(grad3_[i]-grad[i+12]))\n",
    "    # print(index3, grad3_[i][index3], grad[i+12][index3])\n",
    "    print('TT-core {:d}'.format(i), 'in V max elemental err: {:.2%}'.format(np.abs((grad3_[i][index3]-grad[i+12][index3])/grad[i+12][index3])))\n",
    "for i in range(6):\n",
    "    index4 = np.argmax(np.abs(grad4_[i]-grad[i+18]))\n",
    "    # print(index4, grad4_[i][index4], grad[i+6][index2])\n",
    "    print('TT-core {:d}'.format(i), 'in O max elemental err: {:.2%}'.format(np.abs((grad4_[i][index4]-grad[i+18][index4])/grad[i+18][index4])))"
   ]
  }
 ],
 "metadata": {
  "kernelspec": {
   "display_name": "Python 3",
   "language": "python",
   "name": "python3"
  },
  "language_info": {
   "codemirror_mode": {
    "name": "ipython",
    "version": 3
   },
   "file_extension": ".py",
   "mimetype": "text/x-python",
   "name": "python",
   "nbconvert_exporter": "python",
   "pygments_lexer": "ipython3",
   "version": "3.8.8"
  }
 },
 "nbformat": 4,
 "nbformat_minor": 5
}
