{
 "cells": [
  {
   "cell_type": "code",
   "execution_count": 1,
   "id": "6dceaff1",
   "metadata": {},
   "outputs": [
    {
     "name": "stdout",
     "output_type": "stream",
     "text": [
      "(9600,) (9600,)\n",
      "TT-core 0 in FF-1 max elemental err: -0.02%\n",
      "TT-core 1 in FF-1 max elemental err: -0.03%\n",
      "TT-core 2 in FF-1 max elemental err: -0.02%\n",
      "TT-core 3 in FF-1 max elemental err: -0.08%\n",
      "TT-core 4 in FF-1 max elemental err: -0.03%\n",
      "TT-core 5 in FF-1 max elemental err: -0.04%\n",
      "TT-core 0 in FF-2 max elemental err: -0.03%\n",
      "TT-core 1 in FF-2 max elemental err: -0.02%\n",
      "TT-core 2 in FF-2 max elemental err: -0.02%\n",
      "TT-core 3 in FF-2 max elemental err: -0.27%\n",
      "TT-core 4 in FF-2 max elemental err: -0.20%\n",
      "TT-core 5 in FF-2 max elemental err: -0.07%\n"
     ]
    }
   ],
   "source": [
    "import numpy as np\n",
    "file1 = 'grad_cores1.txt'\n",
    "file2 = 'grad_cores2.txt'\n",
    "grad1 = np.loadtxt(file1)\n",
    "grad2 = np.loadtxt(file2)\n",
    "print(grad1.shape, grad2.shape)\n",
    "\n",
    "grad = {}\n",
    "grad1_ = {}\n",
    "grad2_ = {}\n",
    "WD = 10*16*10\n",
    "for k in range(12):\n",
    "    file = \"grad_cores_ffn/grad_ffn\" + str(k) + \".txt\";\n",
    "    grad[k] = np.loadtxt(file)\n",
    "    grad[k] = grad[k].flatten()\n",
    "    # print(grad[k].shape)\n",
    "    grad[k] = np.pad(grad[k].flatten(), (0, WD - len(grad[k].flatten())), 'constant')\n",
    "\n",
    "for i in range(6):\n",
    "    grad1_[i] = grad1[i*WD:(i+1)*WD]\n",
    "    grad2_[i] = grad2[i*WD:(i+1)*WD]\n",
    "\n",
    "for i in range(6):\n",
    "    index1 = np.argmax(grad1_[i]-grad[i])\n",
    "    # print(index1, grad1_[i][index1], grad[i][index1])\n",
    "    print('TT-core {:d}'.format(i), 'in FF-1 max elemental err: {:.2%}'.format(np.max(grad1_[i]-grad[i])/grad[i][index1]))\n",
    "for i in range(6):\n",
    "    index2 = np.argmax(grad2_[i]-grad[i+6])\n",
    "    # print(index2, grad2_[i][index2], grad[i+6][index2])\n",
    "    print('TT-core {:d}'.format(i), 'in FF-2 max elemental err: {:.2%}'.format(np.max(grad2_[i]-grad[i+6])/grad[i+6][index2]))"
   ]
  }
 ],
 "metadata": {
  "kernelspec": {
   "display_name": "Python 3",
   "language": "python",
   "name": "python3"
  },
  "language_info": {
   "codemirror_mode": {
    "name": "ipython",
    "version": 3
   },
   "file_extension": ".py",
   "mimetype": "text/x-python",
   "name": "python",
   "nbconvert_exporter": "python",
   "pygments_lexer": "ipython3",
   "version": "3.8.8"
  }
 },
 "nbformat": 4,
 "nbformat_minor": 5
}
